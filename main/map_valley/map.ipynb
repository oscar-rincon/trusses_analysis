{
 "cells": [
  {
   "cell_type": "code",
   "execution_count": 3,
   "metadata": {},
   "outputs": [],
   "source": [
    "import numpy as np\n",
    "\n",
    "def read_points(file):\n",
    "    \"\"\"Lee los puntos desde un archivo .pts\"\"\"\n",
    "    points = []\n",
    "    with open(file, 'r') as f:\n",
    "        for line in f:\n",
    "            values = line.split()\n",
    "            # Verifica que la línea tenga exactamente 3 valores flotantes\n",
    "            if len(values) == 3:\n",
    "                try:\n",
    "                    points.append(list(map(float, values)))\n",
    "                except ValueError:\n",
    "                    print(f\"Error al convertir a float en la línea: {line}\")\n",
    "    return np.array(points)\n",
    "\n",
    "def read_triangles(file):\n",
    "    \"\"\"Lee las conectividades desde un archivo .tri\"\"\"\n",
    "    triangles = []\n",
    "    with open(file, 'r') as f:\n",
    "        for line in f:\n",
    "            values = line.split()\n",
    "            # Verifica que la línea tenga exactamente 3 valores enteros\n",
    "            if len(values) == 3:\n",
    "                try:\n",
    "                    triangles.append(list(map(int, values)))\n",
    "                except ValueError:\n",
    "                    print(f\"Error al convertir a int en la línea: {line}\")\n",
    "    return np.array(triangles)"
   ]
  },
  {
   "cell_type": "code",
   "execution_count": 14,
   "metadata": {},
   "outputs": [],
   "source": [
    "pts_file = 'valle_aburra.pts'\n",
    "tri_file = 'valle_aburra.tri'\n",
    "pts = read_points(pts_file)\n",
    "tri = read_triangles(tri_file)"
   ]
  },
  {
   "cell_type": "code",
   "execution_count": 15,
   "metadata": {},
   "outputs": [
    {
     "data": {
      "text/plain": [
       "array([[15660.  ,    90.  ,  2505.  ],\n",
       "       [15570.  ,    90.  ,  2505.  ],\n",
       "       [15340.72,    90.26,  2520.22],\n",
       "       ...,\n",
       "       [  270.  , 24480.  ,  2625.  ],\n",
       "       [   90.  , 24480.  ,  2561.  ],\n",
       "       [    0.  , 24480.  ,  2546.  ]])"
      ]
     },
     "execution_count": 15,
     "metadata": {},
     "output_type": "execute_result"
    }
   ],
   "source": [
    "pts"
   ]
  },
  {
   "cell_type": "code",
   "execution_count": null,
   "metadata": {},
   "outputs": [],
   "source": []
  }
 ],
 "metadata": {
  "kernelspec": {
   "display_name": "Python 3",
   "language": "python",
   "name": "python3"
  },
  "language_info": {
   "codemirror_mode": {
    "name": "ipython",
    "version": 3
   },
   "file_extension": ".py",
   "mimetype": "text/x-python",
   "name": "python",
   "nbconvert_exporter": "python",
   "pygments_lexer": "ipython3",
   "version": "3.12.5"
  }
 },
 "nbformat": 4,
 "nbformat_minor": 2
}
