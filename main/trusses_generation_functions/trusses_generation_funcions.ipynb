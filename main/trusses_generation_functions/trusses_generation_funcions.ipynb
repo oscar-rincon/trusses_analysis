{
 "cells": [
  {
   "cell_type": "code",
   "execution_count": 16,
   "metadata": {},
   "outputs": [
    {
     "data": {
      "image/png": "[encoded data removed]",
      "text/plain": [
       "<Figure size 640x480 with 1 Axes>"
      ]
     },
     "metadata": {},
     "output_type": "display_data"
    }
   ],
   "source": [
    "import numpy as np\n",
    "from analisis_cerchas import calc_esfuerzos_int,vis_esfuerzos,graficar\n",
    "from funciones_cerchas import warren_bridge_data\n",
    "from plane_trusses import analysis\n",
    "\n",
    "data = warren_bridge_data(largo=24.0, alto=5, n=3, seccion=0.02, young=200e9, carga_total=400e3)\n",
    "disp = analysis(data)\n",
    "esfuerzos = calc_esfuerzos_int(data['nodes'], data['elements'], data['mats'], disp)\n",
    "vis_esfuerzos(data['nodes'], data['elements'], esfuerzos)"
   ]
  },
  {
   "cell_type": "code",
   "execution_count": 92,
   "metadata": {},
   "outputs": [],
   "source": [
    "def warren_roof_data(largo=24.0, alto=6, seccion=0.02, young=200e9, carga_total=400e3):\n",
    "    \"\"\"\n",
    "    Genera los datos estructurales para una cercha tipo puente Warren.\n",
    "\n",
    "    Parámetros:\n",
    "    largo: Longitud total del puente (en metros).\n",
    "    alto: Altura del puente (en metros).\n",
    "    n: Número de segmentos horizontales en la mitad de la cercha.\n",
    "    seccion: Área de la sección transversal de los elementos (en metros cuadrados).\n",
    "    young: Módulo de Young del material (en Pascales).\n",
    "    carga_total: Carga total distribuida en los nodos inferiores (en Newtons).\n",
    "\n",
    "    Retorno:\n",
    "    Un diccionario con los datos de los nodos, elementos, restricciones, cargas y materiales.\n",
    "    \"\"\"\n",
    "\n",
    "    # número de segmentos horizontales   \n",
    "    n = 6\n",
    "\n",
    "    # Crear lista para almacenar los nodos\n",
    "    nodes = []\n",
    "\n",
    "    # Nodos inferiores (sobre el eje horizontal)\n",
    "    for i in range(n + 1):\n",
    "        nodes.append([i * (largo / n), 0.0])\n",
    "\n",
    "    nodes.append([largo / n, alto/n*2])\n",
    "\n",
    "    nodes.append([2*(largo / (n)), 2*alto/n*2])\n",
    "\n",
    "    # Nodos superiores (desplazados a mitad del paso y a la altura definida)\n",
    "    nodes.append([(largo / (n/2-1)), alto])\n",
    "\n",
    "    nodes.append([5*largo / n, alto/n*2])\n",
    "\n",
    "    nodes.append([4*(largo / (n)), 2*alto/n*2])\n",
    "\n",
    " \n",
    "\n",
    "\n",
    "    # Convertir lista de nodos a un array de numpy\n",
    "    nodes = np.array(nodes)\n",
    "\n",
    "    # Definir elementos (conectividad e índice de propiedades del material)\n",
    "    elements = []\n",
    "\n",
    "    ele_num = 0\n",
    "    # Chords inferiores: conectan nodos consecutivos de la parte inferior\n",
    "    for i in range(0,n):\n",
    "        elements.append([ele_num, i, i + 1])\n",
    "        ele_num += 1\n",
    "\n",
    "    for i in range(n+1,2*n-1):\n",
    "        elements.append([ele_num, i, i + 1])\n",
    "        ele_num += 1\n",
    " \n",
    "    elements.append([ele_num, 0, n + 1])\n",
    "\n",
    "    elements.append([ele_num, n, -1])\n",
    "\n",
    "    # Convertir la lista de elementos a un array de numpy\n",
    "    elements = np.array(elements)\n",
    "\n",
    "    # Crear el arreglo de restricciones lleno de ceros con la misma forma de los nodos\n",
    "    cons = np.zeros((nodes.shape[0], 2), dtype=int)\n",
    "\n",
    "    # Modificar restricciones específicas según el problema\n",
    "    cons[0] = [0, -1]   # Nodo 0: Fijo en y (Soporte izquierdo)\n",
    "    cons[n] = [-1, -1]  # Nodo n: Fijo en x e y (Soporte derecho)\n",
    "\n",
    "    # Crear el arreglo de fuerzas lleno de ceros con la misma forma de los nodos\n",
    "    loads = np.zeros((nodes.shape[0], 2), dtype=float)\n",
    "\n",
    "    # Aplicar fuerzas verticales de -carga_total/n en los nodos inferiores (excepto los extremos)\n",
    "    for i in range(1, n):  # Desde el nodo 1 hasta el nodo n-1 (excluyendo extremos)\n",
    "        loads[i, 1] = -carga_total / n  # Fuerza en la dirección y\n",
    "\n",
    "    # Inicialización de secciones con el caso más costoso\n",
    "    sections = [seccion] * np.shape(elements)[0]  # Secciones iniciales\n",
    "    \n",
    "    # Crear un array con los módulos de Young de los elementos\n",
    "    modulus_of_elasticity = np.ones_like(sections) * young\n",
    "\n",
    "    # Crear un array con los módulos de Young y las secciones transversales\n",
    "    materials = np.array([modulus_of_elasticity, sections]).T\n",
    "\n",
    "    # Preparar el diccionario de datos como se espera en la función de análisis\n",
    "    data = {\n",
    "        \"nodes\": nodes,\n",
    "        \"cons\": cons,\n",
    "        \"elements\": elements,\n",
    "        \"loads\": loads,\n",
    "        \"mats\": materials\n",
    "    }\n",
    "\n",
    "    return data"
   ]
  },
  {
   "cell_type": "code",
   "execution_count": 93,
   "metadata": {},
   "outputs": [
    {
     "data": {
      "image/png": "[encoded data removed]",
      "text/plain": [
       "<Figure size 640x480 with 1 Axes>"
      ]
     },
     "metadata": {},
     "output_type": "display_data"
    }
   ],
   "source": [
    "data = warren_roof_data(largo=24.0, alto=5, seccion=0.02, young=200e9, carga_total=400e3)\n",
    "graficar(data['nodes'], data['elements'])"
   ]
  },
  {
   "cell_type": "code",
   "execution_count": null,
   "metadata": {},
   "outputs": [],
   "source": []
  }
 ],
 "metadata": {
  "kernelspec": {
   "display_name": "seismic_2d_waves_env",
   "language": "python",
   "name": "python3"
  },
  "language_info": {
   "codemirror_mode": {
    "name": "ipython",
    "version": 3
   },
   "file_extension": ".py",
   "mimetype": "text/x-python",
   "name": "python",
   "nbconvert_exporter": "python",
   "pygments_lexer": "ipython3",
   "version": "3.12.3"
  }
 },
 "nbformat": 4,
 "nbformat_minor": 2
}
